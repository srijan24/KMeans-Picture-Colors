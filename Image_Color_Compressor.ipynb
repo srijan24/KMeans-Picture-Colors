{
 "cells": [
  {
   "cell_type": "code",
   "execution_count": 4,
   "id": "a1d34b51",
   "metadata": {},
   "outputs": [],
   "source": [
    "# python 3.8.10\n",
    "import numpy as np\n",
    "import pandas as pd\n",
    "import matplotlib.pyplot as plt\n",
    "import sklearn\n",
    "import PIL\n",
    "import os\n",
    "import gzip\n",
    "\n",
    "from matplotlib import image\n",
    "from sklearn.cluster import KMeans\n",
    "\n",
    "np.random.seed(42)"
   ]
  },
  {
   "cell_type": "code",
   "execution_count": 207,
   "id": "5b2eaec0",
   "metadata": {},
   "outputs": [
    {
     "data": {
      "text/plain": [
       "'1.19.4'"
      ]
     },
     "execution_count": 207,
     "metadata": {},
     "output_type": "execute_result"
    }
   ],
   "source": [
    "np.__version__"
   ]
  },
  {
   "cell_type": "code",
   "execution_count": 208,
   "id": "895a2218",
   "metadata": {},
   "outputs": [
    {
     "data": {
      "text/plain": [
       "'8.0.1'"
      ]
     },
     "execution_count": 208,
     "metadata": {},
     "output_type": "execute_result"
    }
   ],
   "source": [
    "PIL.__version__"
   ]
  },
  {
   "cell_type": "code",
   "execution_count": 209,
   "id": "394f5caf",
   "metadata": {},
   "outputs": [
    {
     "data": {
      "text/plain": [
       "'0.24.2'"
      ]
     },
     "execution_count": 209,
     "metadata": {},
     "output_type": "execute_result"
    }
   ],
   "source": [
    "import sklearn\n",
    "sklearn.__version__"
   ]
  },
  {
   "cell_type": "code",
   "execution_count": 210,
   "id": "76e343be",
   "metadata": {},
   "outputs": [
    {
     "data": {
      "text/plain": [
       "'1.1.5'"
      ]
     },
     "execution_count": 210,
     "metadata": {},
     "output_type": "execute_result"
    }
   ],
   "source": [
    "pd.__version__"
   ]
  },
  {
   "cell_type": "code",
   "execution_count": 8,
   "id": "22a3d8ec",
   "metadata": {},
   "outputs": [],
   "source": [
    "def compress_color(file_name='input.jpg', n_colours=4, output_name='output.jpg'):\n",
    "    \"\"\"\n",
    "    file_name (string) -> path to the input file\n",
    "    n_colors (int) -> how many colors should output image contain\n",
    "    output_name (string) -> path to the output file\n",
    "    \"\"\"\n",
    "    \n",
    "    \n",
    "    # read the image\n",
    "    input_image = np.asarray(PIL.Image.open(file_name))\n",
    "    \n",
    "    # get the image shape and reshape it\n",
    "    x,y,z = input_image.shape\n",
    "    input_image_reshaped = input_image.reshape(x*y,z)\n",
    "    \n",
    "    # apply k-means with k=n_colours\n",
    "    kmean = KMeans(n_clusters=n_colours)\n",
    "    kmean.fit(input_image_reshaped)\n",
    "    \n",
    "    # substitute the new colours\n",
    "    input_image_compressed = []\n",
    "    for i in input_image_reshaped:\n",
    "        new_i = kmean.predict([i])[0]\n",
    "        new_c = kmean.cluster_centers_[new_i]\n",
    "        input_image_compressed.append( new_c )\n",
    "    input_image_compressed = np.asarray(input_image_compressed, dtype=int)\n",
    "    input_image_compressed = input_image_compressed.reshape(x,y,z)\n",
    "    \n",
    "    # save the image\n",
    "    PIL.Image.fromarray(input_image_compressed.astype(np.uint8)).save(output_name)"
   ]
  },
  {
   "cell_type": "code",
   "execution_count": 10,
   "id": "a6b75ff6",
   "metadata": {},
   "outputs": [
    {
     "name": "stdout",
     "output_type": "stream",
     "text": [
      "1 done\n",
      "2 done\n",
      "3 done\n",
      "4 done\n",
      "5 done\n"
     ]
    }
   ],
   "source": [
    "for i in range(1,6):\n",
    "    compress_color(file_name='./inputs/input'+str(i)+'.jpg', output_name='./outputs/output'+str(i)+'.jpg')\n",
    "    print(i,'done')"
   ]
  },
  {
   "cell_type": "code",
   "execution_count": null,
   "id": "d6b6fb36",
   "metadata": {},
   "outputs": [],
   "source": []
  },
  {
   "cell_type": "code",
   "execution_count": null,
   "id": "fc9cb415",
   "metadata": {},
   "outputs": [],
   "source": []
  },
  {
   "cell_type": "code",
   "execution_count": null,
   "id": "e1c16d59",
   "metadata": {},
   "outputs": [],
   "source": []
  }
 ],
 "metadata": {
  "kernelspec": {
   "display_name": "Python 3",
   "language": "python",
   "name": "python3"
  },
  "language_info": {
   "codemirror_mode": {
    "name": "ipython",
    "version": 3
   },
   "file_extension": ".py",
   "mimetype": "text/x-python",
   "name": "python",
   "nbconvert_exporter": "python",
   "pygments_lexer": "ipython3",
   "version": "3.8.10"
  }
 },
 "nbformat": 4,
 "nbformat_minor": 5
}
